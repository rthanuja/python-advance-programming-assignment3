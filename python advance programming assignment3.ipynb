{
 "cells": [
  {
   "cell_type": "code",
   "execution_count": 1,
   "id": "d9e1d789",
   "metadata": {},
   "outputs": [],
   "source": [
    "'''1.Create a function to perform basic arithmetic operations that includes addition, subtraction, multiplication and division\n",
    "on a string number (e.g. '12 + 24' or '23 - 21' or '12 // 12' or '12 * 21').Here, we have 1 followed by a space, operator \n",
    "followed by another space and 2. For the challenge, we are going to have only two numbers between 1 valid operator. The \n",
    "return value should be a number. eval() is not allowed. In case of division, whenever the second number equals '0' return -1.'''\n",
    "def arithmeticoperation(s):\n",
    "    l=s.split()\n",
    "    if l[1]==\"+\":\n",
    "        return int(l[0])+int(l[2])\n",
    "    elif l[1]==\"-\":\n",
    "        return int(l[0])-int(l[2])\n",
    "    elif l[1]==\"*\":\n",
    "        return int(l[0])*int(l[2])\n",
    "    elif l[1]==\"//\":\n",
    "        if int(l[2])==0:\n",
    "            return -1\n",
    "        else:\n",
    "            return int(l[0])//int(l[2])\n"
   ]
  },
  {
   "cell_type": "code",
   "execution_count": 2,
   "id": "4aa5cf2d",
   "metadata": {},
   "outputs": [
    {
     "data": {
      "text/plain": [
       "24"
      ]
     },
     "execution_count": 2,
     "metadata": {},
     "output_type": "execute_result"
    }
   ],
   "source": [
    "arithmeticoperation(\"12 + 12\")"
   ]
  },
  {
   "cell_type": "code",
   "execution_count": 3,
   "id": "b0badb12",
   "metadata": {},
   "outputs": [
    {
     "data": {
      "text/plain": [
       "0"
      ]
     },
     "execution_count": 3,
     "metadata": {},
     "output_type": "execute_result"
    }
   ],
   "source": [
    "arithmeticoperation(\"12 - 12\")"
   ]
  },
  {
   "cell_type": "code",
   "execution_count": 4,
   "id": "941271d3",
   "metadata": {},
   "outputs": [
    {
     "data": {
      "text/plain": [
       "144"
      ]
     },
     "execution_count": 4,
     "metadata": {},
     "output_type": "execute_result"
    }
   ],
   "source": [
    "arithmeticoperation(\"12 * 12\")\n"
   ]
  },
  {
   "cell_type": "code",
   "execution_count": 5,
   "id": "5c9d8123",
   "metadata": {},
   "outputs": [
    {
     "data": {
      "text/plain": [
       "-1"
      ]
     },
     "execution_count": 5,
     "metadata": {},
     "output_type": "execute_result"
    }
   ],
   "source": [
    "arithmeticoperation(\"12 // 0\")"
   ]
  },
  {
   "cell_type": "code",
   "execution_count": 6,
   "id": "9374debe",
   "metadata": {},
   "outputs": [],
   "source": [
    "'''2. Write a function that takes the coordinates of three points in the form of a 2d array and returns the perimeter\n",
    "of the triangle. The given points are the vertices of a triangle on a two-dimensional plane.'''\n",
    "import itertools\n",
    "import math\n",
    "def perimeter(l):\n",
    "    l1,l2,l3=l[0],l[1],l[2]\n",
    "    c=itertools.combinations([l1,l2,l3],2)\n",
    "    s=0\n",
    "    for i in c:\n",
    "        s+=math.dist(i[0],i[1])\n",
    "    return round(s,2)\n",
    "    "
   ]
  },
  {
   "cell_type": "code",
   "execution_count": 7,
   "id": "326b7242",
   "metadata": {},
   "outputs": [
    {
     "data": {
      "text/plain": [
       "47.08"
      ]
     },
     "execution_count": 7,
     "metadata": {},
     "output_type": "execute_result"
    }
   ],
   "source": [
    "perimeter([[15,7],[5,22],[11,1]])"
   ]
  },
  {
   "cell_type": "code",
   "execution_count": 8,
   "id": "37d999b6",
   "metadata": {},
   "outputs": [
    {
     "data": {
      "text/plain": [
       "3.41"
      ]
     },
     "execution_count": 8,
     "metadata": {},
     "output_type": "execute_result"
    }
   ],
   "source": [
    "perimeter([[0,0],[0,1],[1,0]])"
   ]
  },
  {
   "cell_type": "code",
   "execution_count": 9,
   "id": "e7bb182b",
   "metadata": {},
   "outputs": [
    {
     "data": {
      "text/plain": [
       "68.28"
      ]
     },
     "execution_count": 9,
     "metadata": {},
     "output_type": "execute_result"
    }
   ],
   "source": [
    "perimeter([[-10,-10],[10,10],[-10,10]])"
   ]
  },
  {
   "cell_type": "code",
   "execution_count": 10,
   "id": "7d2ac563",
   "metadata": {},
   "outputs": [],
   "source": [
    "'''3. A city skyline can be represented as a 2-D list with 1s representing buildings.Create a function that takes a skyline\n",
    "(2-D list of 0's and 1's) and returns the height of the tallest skyscraper.'''\n",
    "def tallestbuilding(l):\n",
    "    n=0\n",
    "    for i in range(len(l[0])):\n",
    "        s=0\n",
    "        for j in range(len(l)):\n",
    "            s+=l[j][i]\n",
    "        n=max(n,s)\n",
    "    return n"
   ]
  },
  {
   "cell_type": "code",
   "execution_count": 11,
   "id": "af1f13ab",
   "metadata": {},
   "outputs": [
    {
     "data": {
      "text/plain": [
       "3"
      ]
     },
     "execution_count": 11,
     "metadata": {},
     "output_type": "execute_result"
    }
   ],
   "source": [
    "tallestbuilding([[0, 0, 0, 0],\n",
    "[0, 1, 0, 0],\n",
    "[0, 1, 1, 0],\n",
    "[1, 1, 1, 1]])"
   ]
  },
  {
   "cell_type": "code",
   "execution_count": 12,
   "id": "e62157b3",
   "metadata": {},
   "outputs": [
    {
     "data": {
      "text/plain": [
       "4"
      ]
     },
     "execution_count": 12,
     "metadata": {},
     "output_type": "execute_result"
    }
   ],
   "source": [
    "tallestbuilding([[0, 1, 0, 0],\n",
    "[0, 1, 0, 0],\n",
    "[0, 1, 1, 0],\n",
    "[1, 1, 1, 1]])"
   ]
  },
  {
   "cell_type": "code",
   "execution_count": 13,
   "id": "934b8043",
   "metadata": {},
   "outputs": [
    {
     "data": {
      "text/plain": [
       "2"
      ]
     },
     "execution_count": 13,
     "metadata": {},
     "output_type": "execute_result"
    }
   ],
   "source": [
    "tallestbuilding([[0, 0, 0, 0],\n",
    "[0, 0, 0, 0],\n",
    "[1, 1, 1, 0],\n",
    "[1, 1, 1, 1]\n",
    "            ])"
   ]
  },
  {
   "cell_type": "code",
   "execution_count": 14,
   "id": "7a07ae1d",
   "metadata": {},
   "outputs": [
    {
     "data": {
      "text/plain": [
       "4"
      ]
     },
     "execution_count": 14,
     "metadata": {},
     "output_type": "execute_result"
    }
   ],
   "source": [
    "tallestbuilding([[0, 0, 0, 0, 0, 0],\n",
    "[0, 0, 0, 0, 1, 0],\n",
    "[0, 0, 1, 0, 1, 0],\n",
    "[0, 1, 1, 1, 1, 0],\n",
    "\n",
    "[1, 1, 1, 1, 1, 1]])"
   ]
  },
  {
   "cell_type": "code",
   "execution_count": 15,
   "id": "84c458f1",
   "metadata": {},
   "outputs": [],
   "source": [
    "'''This quarterly scheme is calculated with a threshold target of 32 days per quarter, and the incentive payment for each \n",
    "billable day in excess of such threshold target is shown as follows:\n",
    "Days                        Bonus\n",
    "0 to 32 days             Zero\n",
    "33 to 40 days            SGD$325 per billable day\n",
    "41 to 48 days            SGD$550 per billable day\n",
    "Greater than 48 days     SGD$600 per billable day'''\n",
    "def bonus(n):\n",
    "    if n<=32:\n",
    "        return 0\n",
    "    elif n>32 and n<=40:\n",
    "        return (n-32)*325\n",
    "    elif n>40 and n<=48:\n",
    "        return (8*325)+(n-40)*550\n",
    "    else:\n",
    "        return (8*325)+(8*550)+(n-48)*600\n",
    "   "
   ]
  },
  {
   "cell_type": "code",
   "execution_count": 16,
   "id": "601b7c9a",
   "metadata": {},
   "outputs": [
    {
     "data": {
      "text/plain": [
       "0"
      ]
     },
     "execution_count": 16,
     "metadata": {},
     "output_type": "execute_result"
    }
   ],
   "source": [
    "bonus(15)"
   ]
  },
  {
   "cell_type": "code",
   "execution_count": 17,
   "id": "35eb8f5e",
   "metadata": {},
   "outputs": [
    {
     "data": {
      "text/plain": [
       "1625"
      ]
     },
     "execution_count": 17,
     "metadata": {},
     "output_type": "execute_result"
    }
   ],
   "source": [
    "bonus(37)"
   ]
  },
  {
   "cell_type": "code",
   "execution_count": 18,
   "id": "7ce528b8",
   "metadata": {},
   "outputs": [
    {
     "data": {
      "text/plain": [
       "8200"
      ]
     },
     "execution_count": 18,
     "metadata": {},
     "output_type": "execute_result"
    }
   ],
   "source": [
    "bonus(50)"
   ]
  },
  {
   "cell_type": "code",
   "execution_count": 19,
   "id": "25cd30b5",
   "metadata": {},
   "outputs": [],
   "source": [
    "'''5. A number is said to be Disarium if the sum of its digits raised to their  respective positions is the number itself.\n",
    "Create a function that determines whether a number is a Disarium or not.'''\n",
    "def isdisarium(n):\n",
    "    s=0\n",
    "    l=1\n",
    "    for i in str(n):\n",
    "        s+=int(i)**l\n",
    "        l+=1\n",
    "    if s==n:\n",
    "        return True\n",
    "    return False\n"
   ]
  },
  {
   "cell_type": "code",
   "execution_count": 20,
   "id": "466a5712",
   "metadata": {},
   "outputs": [
    {
     "data": {
      "text/plain": [
       "False"
      ]
     },
     "execution_count": 20,
     "metadata": {},
     "output_type": "execute_result"
    }
   ],
   "source": [
    "isdisarium(75)"
   ]
  },
  {
   "cell_type": "code",
   "execution_count": 21,
   "id": "1d7ef7b9",
   "metadata": {},
   "outputs": [
    {
     "data": {
      "text/plain": [
       "True"
      ]
     },
     "execution_count": 21,
     "metadata": {},
     "output_type": "execute_result"
    }
   ],
   "source": [
    "isdisarium(135)"
   ]
  },
  {
   "cell_type": "code",
   "execution_count": 22,
   "id": "78dc4c24",
   "metadata": {},
   "outputs": [
    {
     "data": {
      "text/plain": [
       "False"
      ]
     },
     "execution_count": 22,
     "metadata": {},
     "output_type": "execute_result"
    }
   ],
   "source": [
    "isdisarium(544)"
   ]
  },
  {
   "cell_type": "code",
   "execution_count": 23,
   "id": "38d4c360",
   "metadata": {},
   "outputs": [
    {
     "data": {
      "text/plain": [
       "True"
      ]
     },
     "execution_count": 23,
     "metadata": {},
     "output_type": "execute_result"
    }
   ],
   "source": [
    "isdisarium(518)"
   ]
  },
  {
   "cell_type": "code",
   "execution_count": 24,
   "id": "244da6a2",
   "metadata": {},
   "outputs": [
    {
     "data": {
      "text/plain": [
       "False"
      ]
     },
     "execution_count": 24,
     "metadata": {},
     "output_type": "execute_result"
    }
   ],
   "source": [
    "isdisarium(466)"
   ]
  },
  {
   "cell_type": "code",
   "execution_count": 25,
   "id": "18a4c79a",
   "metadata": {},
   "outputs": [
    {
     "data": {
      "text/plain": [
       "True"
      ]
     },
     "execution_count": 25,
     "metadata": {},
     "output_type": "execute_result"
    }
   ],
   "source": [
    "isdisarium(8)"
   ]
  }
 ],
 "metadata": {
  "kernelspec": {
   "display_name": "Python 3 (ipykernel)",
   "language": "python",
   "name": "python3"
  },
  "language_info": {
   "codemirror_mode": {
    "name": "ipython",
    "version": 3
   },
   "file_extension": ".py",
   "mimetype": "text/x-python",
   "name": "python",
   "nbconvert_exporter": "python",
   "pygments_lexer": "ipython3",
   "version": "3.10.9"
  }
 },
 "nbformat": 4,
 "nbformat_minor": 5
}
